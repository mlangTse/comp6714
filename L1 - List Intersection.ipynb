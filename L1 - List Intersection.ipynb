{
 "cells": [
  {
   "cell_type": "markdown",
   "metadata": {
    "collapsed": false
   },
   "source": [
    "# List intersection algorithms\n",
    "\n",
    "In this notebook, you can experiment with two algorithms (the naive one and the one using galloping search) to perform list intersection, which is an essential operator in supporting conjunction keyword queries.\n"
   ]
  },
  {
   "cell_type": "code",
   "execution_count": 435,
   "metadata": {
    "collapsed": true
   },
   "outputs": [],
   "source": [
    "## define the function p() that outputs debugging messages if DEBUG flag is True. \n",
    "\n",
    "#DEBUG = True\n",
    "DEBUG = False\n",
    "\n",
    "def p(msg):\n",
    "    if DEBUG:\n",
    "        print(\".. {}\".format(msg)) "
   ]
  },
  {
   "cell_type": "markdown",
   "metadata": {},
   "source": [
    "## The InvertedList class\n",
    "\n",
    "We implement this class which encapsulates all the important *operations* one can perform on an inverted list. "
   ]
  },
  {
   "cell_type": "code",
   "execution_count": 445,
   "metadata": {
    "collapsed": false
   },
   "outputs": [],
   "source": [
    "from pprint import pprint\n",
    "from bisect import *\n",
    "\n",
    "## You may find many similarity between this class and the file operation (in C/Java). \n",
    "class InvertedList:\n",
    "    def __init__(self, l):\n",
    "        self.data = l[:] # make a copy\n",
    "        self.cur = 0     # the cursor \n",
    "\n",
    "    def get_list(self):\n",
    "        return self.data\n",
    " \n",
    "    def eol(self):\n",
    "        # we use cur == len(list) to indicate EOL\n",
    "        return False if self.cur < len(self.data) else True\n",
    "    \n",
    "    def next(self, val = 1):\n",
    "        # does not allow cur to be out-of-range, but use len(list) to indicate EOL\n",
    "        self.cur = min(self.cur + val, len(self.data)) \n",
    "            \n",
    "    def elem(self):\n",
    "        if self.eol():\n",
    "            return None\n",
    "        else: \n",
    "            return self.data[self.cur]\n",
    "\n",
    "    def peek(self, pos):\n",
    "        # look at the element under the current cursor, but does not advance the cursor. \n",
    "        if pos < len(self.data):\n",
    "            return self.data[pos]\n",
    "        else:\n",
    "            return None\n",
    "        \n",
    "    def reset(self):\n",
    "        self.cur = 0\n",
    "    \n",
    "    def dump(self):\n",
    "        print(\"* {} : {} (cur = {})\".format(self.data[:self.cur], self.data[self.cur:], self.cur))\n",
    "        \n",
    "    def skip_to(self, val):\n",
    "        ##!! This is a naive and inefficient implementation. \n",
    "        ##!! Once you have implemented gallop_to(), you can just call it here instead.\n",
    "        # move the cursor to the first element no smaller than `val`\n",
    "\n",
    "        while not self.eol() and self.elem() < val:\n",
    "            self.next()               \n",
    "            \n",
    "    def gallop_to(self, val):\n",
    "        inc = 0\n",
    "        head = 0\n",
    "        while not self.eol():\n",
    "            if self.elem() == val: break\n",
    "            elif self.elem() > val:\n",
    "                self.BinarySearch(head+1, self.cur, val)\n",
    "                break\n",
    "            head = self.cur\n",
    "            self.next(2**inc)\n",
    "            inc += 1\n",
    "\n",
    "    def BinarySearch(self, start, end, val):\n",
    "        alist = self.get_list()[start:end]\n",
    "        if not len(alist): return\n",
    "        mid = len(alist) // 2\n",
    "        if alist[mid] == val: return\n",
    "        if alist[mid] > val:\n",
    "            self.reset()\n",
    "            self.next(start+mid)\n",
    "            self.BinarySearch(start, start+mid, val)\n",
    "        else:\n",
    "            self.BinarySearch(start+mid+1, end, val)\n",
    "    \n",
    "\n",
    "\n"
   ]
  },
  {
   "cell_type": "markdown",
   "metadata": {},
   "source": [
    "### Test the class"
   ]
  },
  {
   "cell_type": "code",
   "execution_count": 454,
   "metadata": {
    "collapsed": false,
    "tags": []
   },
   "outputs": [
    {
     "output_type": "stream",
     "name": "stdout",
     "text": "2\n4\n6\n8\n10\n12\n14\n16\n18\n* [2, 4, 6, 8, 10, 12, 14, 16, 18] : [] (cur = 9)\n"
    }
   ],
   "source": [
    "a = InvertedList([2, 4, 6, 8, 10, 12, 14, 16, 18])\n",
    "b = InvertedList([1, 2, 4, 8, 16, 32])\n",
    "\n",
    "while not a.eol():\n",
    "    e = a.elem()\n",
    "    a.next()\n",
    "    print(e)\n",
    "\n",
    "a.dump()"
   ]
  },
  {
   "cell_type": "markdown",
   "metadata": {},
   "source": [
    "If you have implemented the `gallop_to()` correctly, you should pass the following test. You may change the call to `skip_to()` for now to see how it should work. "
   ]
  },
  {
   "cell_type": "code",
   "execution_count": 455,
   "metadata": {
    "collapsed": true
   },
   "outputs": [],
   "source": [
    "def test_gallop(l, val):\n",
    "    print(\"=> gallop_to({})\".format(val))\n",
    "    l.reset()\n",
    "    l.gallop_to(val)\n",
    "    l.dump()"
   ]
  },
  {
   "cell_type": "code",
   "execution_count": 456,
   "metadata": {
    "collapsed": false,
    "tags": []
   },
   "outputs": [
    {
     "output_type": "stream",
     "name": "stdout",
     "text": "* [2, 4, 6, 8, 10, 12, 14, 16, 18] : [] (cur = 9)\n=&gt; gallop_to(1)\n* [] : [2, 4, 6, 8, 10, 12, 14, 16, 18] (cur = 0)\n=&gt; gallop_to(3)\n* [2] : [4, 6, 8, 10, 12, 14, 16, 18] (cur = 1)\n=&gt; gallop_to(5)\n* [2, 4] : [6, 8, 10, 12, 14, 16, 18] (cur = 2)\n=&gt; gallop_to(7)\n* [2, 4, 6] : [8, 10, 12, 14, 16, 18] (cur = 3)\n=&gt; gallop_to(9)\n* [2, 4, 6, 8] : [10, 12, 14, 16, 18] (cur = 4)\n=&gt; gallop_to(11)\n* [2, 4, 6, 8, 10] : [12, 14, 16, 18] (cur = 5)\n=&gt; gallop_to(13)\n* [2, 4, 6, 8, 10, 12] : [14, 16, 18] (cur = 6)\n=&gt; gallop_to(15)\n* [2, 4, 6, 8, 10, 12, 14] : [16, 18] (cur = 7)\n=&gt; gallop_to(17)\n* [2, 4, 6, 8, 10, 12, 14, 16, 18] : [] (cur = 9)\n=&gt; gallop_to(118)\n* [2, 4, 6, 8, 10, 12, 14, 16, 18] : [] (cur = 9)\n"
    }
   ],
   "source": [
    "test_a = [val - 1 for val in a.get_list()]\n",
    "test_a.append(a.get_list()[-1] + 100)\n",
    "\n",
    "DEBUG = True # to show the overview\n",
    "a.dump()\n",
    "for t_a in test_a:\n",
    "    test_gallop(a, t_a)"
   ]
  },
  {
   "cell_type": "code",
   "execution_count": 449,
   "metadata": {
    "collapsed": false,
    "tags": []
   },
   "outputs": [
    {
     "output_type": "stream",
     "name": "stdout",
     "text": "=&gt; gallop_to(17)\n* [2, 4, 6, 8, 10, 12, 14, 16, 18] : [] (cur = 9)\n"
    }
   ],
   "source": [
    "DEBUG = True # to show the details. Your detailed debugging info may vary. \n",
    "test_gallop(a, test_a[-2])"
   ]
  },
  {
   "cell_type": "markdown",
   "metadata": {},
   "source": [
    "As you can see above, the galloping search algorithm quickly skip over the list to reposition the cursor. In the additional note, it is proved that its complexity is $O(\\log x)$, where $x$ is the difference between the correct cursor position and the initial cursor position. "
   ]
  },
  {
   "cell_type": "markdown",
   "metadata": {},
   "source": [
    "## The Naive Intersection Algorithm"
   ]
  },
  {
   "cell_type": "code",
   "execution_count": 450,
   "metadata": {
    "collapsed": false
   },
   "outputs": [],
   "source": [
    "def intersection_naive(a, b):\n",
    "    # just in case these lists have been traversed.\n",
    "    a.reset()\n",
    "    b.reset()\n",
    "    \n",
    "    ret = []\n",
    "    while not a.eol() and not b.eol():\n",
    "        if a.elem() < b.elem():\n",
    "            p(\"move a\")\n",
    "            a.next()\n",
    "        elif a.elem() > b.elem():\n",
    "            p(\"move b\")\n",
    "            b.next()\n",
    "        else:\n",
    "            p(\"found one\")\n",
    "            ret.append(a.elem())\n",
    "            a.next()\n",
    "            b.next()\n",
    "    return ret\n",
    "        "
   ]
  },
  {
   "cell_type": "markdown",
   "metadata": {
    "collapsed": true
   },
   "source": [
    "Test"
   ]
  },
  {
   "cell_type": "code",
   "execution_count": 451,
   "metadata": {
    "collapsed": false,
    "tags": []
   },
   "outputs": [
    {
     "output_type": "stream",
     "name": "stdout",
     "text": ".. move b\n.. found one\n.. found one\n.. move a\n.. found one\n.. move a\n.. move a\n.. move a\n.. found one\n.. move a\n"
    },
    {
     "output_type": "execute_result",
     "data": {
      "text/plain": "[2, 4, 8, 16]"
     },
     "metadata": {},
     "execution_count": 451
    }
   ],
   "source": [
    "intersection_naive(a, b)"
   ]
  },
  {
   "cell_type": "markdown",
   "metadata": {},
   "source": [
    "## Intersection Algorithm using `gallop_to()`\n",
    "\n",
    "Here, we call `gallop_to` explicitly to show some detailed info if you have it implemented correctly. You can change the calls to `skip_to` in a more general setting. "
   ]
  },
  {
   "cell_type": "code",
   "execution_count": 452,
   "metadata": {
    "collapsed": true
   },
   "outputs": [],
   "source": [
    "def intersection_galloping(a, b):\n",
    "    # just in case these lists have been traversed.\n",
    "    a.reset()\n",
    "    b.reset()\n",
    "    \n",
    "    ret = []\n",
    "    while not a.eol() and not b.eol():\n",
    "        if a.elem() == b.elem():\n",
    "            p(\"found one\")\n",
    "            ret.append(a.elem())\n",
    "            a.next()\n",
    "        else:\n",
    "            if a.elem() < b.elem():\n",
    "                a.gallop_to(b.elem())\n",
    "            else:\n",
    "                b.gallop_to(a.elem())\n",
    "    # end_while\n",
    "    return ret\n",
    "        "
   ]
  },
  {
   "cell_type": "code",
   "execution_count": 453,
   "metadata": {
    "collapsed": false,
    "tags": []
   },
   "outputs": [
    {
     "output_type": "stream",
     "name": "stdout",
     "text": ".. found one\n.. found one\n.. found one\n.. found one\n"
    },
    {
     "output_type": "execute_result",
     "data": {
      "text/plain": "[2, 4, 8, 16]"
     },
     "metadata": {},
     "execution_count": 453
    }
   ],
   "source": [
    "intersection_galloping(a, b)"
   ]
  },
  {
   "cell_type": "markdown",
   "metadata": {
    "collapsed": true
   },
   "source": [
    "## Exercise\n",
    "\n",
    "You need to correctly implement `gallop_to` using the galloping search algorithm, and then play with the intersection algorithm to appreciate how efficient it works in action. Note that the implementation is not hard, but you do need to take care of a few corner cases. That's why the `test_gallop()` evaluates almost all possible situation. "
   ]
  },
  {
   "cell_type": "code",
   "execution_count": null,
   "metadata": {
    "collapsed": true
   },
   "outputs": [],
   "source": []
  },
  {
   "cell_type": "code",
   "execution_count": null,
   "metadata": {
    "collapsed": true
   },
   "outputs": [],
   "source": []
  },
  {
   "cell_type": "code",
   "execution_count": null,
   "metadata": {
    "collapsed": true
   },
   "outputs": [],
   "source": []
  },
  {
   "cell_type": "code",
   "execution_count": null,
   "metadata": {
    "collapsed": true
   },
   "outputs": [],
   "source": []
  }
 ],
 "metadata": {
  "kernelspec": {
   "display_name": "Python 3",
   "language": "python",
   "name": "python3"
  },
  "language_info": {
   "codemirror_mode": {
    "name": "ipython",
    "version": 3
   },
   "file_extension": ".py",
   "mimetype": "text/x-python",
   "name": "python",
   "nbconvert_exporter": "python",
   "pygments_lexer": "ipython3",
   "version": "3.7.3-final"
  }
 },
 "nbformat": 4,
 "nbformat_minor": 0
}